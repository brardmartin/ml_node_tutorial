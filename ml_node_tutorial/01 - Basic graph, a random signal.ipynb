{
 "cells": [
  {
   "cell_type": "markdown",
   "id": "bb140d5e",
   "metadata": {},
   "source": [
    "# Learning to create a random signal in TimeFlux"
   ]
  },
  {
   "cell_type": "markdown",
   "id": "7d0a5406",
   "metadata": {},
   "source": [
    "We will here learn to create a random signal with TimeFlux, and then to observe it."
   ]
  },
  {
   "cell_type": "markdown",
   "id": "13687152",
   "metadata": {},
   "source": [
    "First, let's create your helloworld.yaml, which will contain the TimeFlux graph. Here, it needs to contain 3 sub-graphs :\n",
    "- The Publisher, supposed to create the signal\n",
    "- The Subscriber, supposed to recieve the signal, in order, here, to print it\n",
    "- The Broker, which will treat communication between the publisher and the subscriber\n",
    "\n",
    "Let's first see the structure of a .yaml graph, it needs to be written as such : \n",
    " \n",
    "\n"
   ]
  },
  {
   "cell_type": "raw",
   "id": "8e911e7d",
   "metadata": {},
   "source": [
    "graphs:\n",
    "    - id : subgraph_1_id\n",
    "        nodes :                       # list of every nodes inside the sub graph\n",
    "            - id : id_node_1\n",
    "                module :              # the library of the node\n",
    "                class :               # the function of the node\n",
    "                params :              # the list of parameters needed to create the node\n",
    "            \n",
    "            \n",
    "            - id : id_node_2\n",
    "                module :\n",
    "                class : \n",
    "                params :\n",
    "        \n",
    "        edges :                       # list of connexions between nodes\n",
    "            - source : id_graph_1\n",
    "              target : id_graph_2\n",
    "        \n",
    "        \n",
    "    - id : subgraph_2_id\n",
    "        nodes : \n",
    "            - id : id_node_1\n",
    "            - module : \n",
    "            - class :\n",
    "            - params :"
   ]
  },
  {
   "cell_type": "markdown",
   "id": "1ae9bb5b",
   "metadata": {},
   "source": [
    "You can find here the documentation for most of the nodes we will be using in the tutorial : https://doc.timeflux.io/en/stable/api/timeflux/nodes/"
   ]
  },
  {
   "cell_type": "markdown",
   "id": "7f0fe6e4",
   "metadata": {},
   "source": [
    "### - The Publisher"
   ]
  },
  {
   "cell_type": "markdown",
   "id": "b8701de3",
   "metadata": {},
   "source": [
    "The publisher is the part of the graph made to create the signal. It requires 2 nodes : \n",
    "- The first one will create the signal. To do so, we can use the class **Random**, from the module **timeflux.nodes.random**.\n",
    "\n",
    "    For our example, it will be recieving a single parameter : \n",
    "     - column : how many numbers to generate.\n",
    "\n",
    "\n",
    "\n",
    "- The second one will send the signal to the brocker. Class is **Pub**, from the module **timeflux.nodes.zmq**.\n",
    "    It recieves 1 parameter too, which is :\n",
    "     - topic : the name of the signal sent to the broker.\n",
    "\n",
    "\n",
    "\n",
    "The generator (first node) needs to be connected to the publisher (which will be automatically connected to the broker).\n",
    "\n",
    "This connexion is made in the 'edge' part.\n",
    "\n",
    "    \n",
    "\n"
   ]
  },
  {
   "cell_type": "raw",
   "id": "af7ca266",
   "metadata": {},
   "source": [
    "Here you can find the complete code for the publisher sub graph :   \n",
    "  \n",
    "  - id: Publisher\n",
    "    nodes:\n",
    "    - id: random\n",
    "      module: timeflux.nodes.random\n",
    "      class: Random\n",
    "      params:\n",
    "        columns: 1\n",
    "        \n",
    "    - id: pub\n",
    "      module: timeflux.nodes.zmq\n",
    "      class: Pub\n",
    "      params:\n",
    "        topic: raw\n",
    "        \n",
    "    edges:\n",
    "    - source: random\n",
    "      target: pub"
   ]
  },
  {
   "cell_type": "markdown",
   "id": "4f4cdd84",
   "metadata": {},
   "source": [
    "### - The Broker"
   ]
  },
  {
   "cell_type": "markdown",
   "id": "bb3fba99",
   "metadata": {},
   "source": [
    "The broker will recieve data from the publisher and send it to the subscriber.\n",
    "It comes from the __timeflux.nodes.zmq__ module, the class being **Broker**.\n",
    "\n",
    "_Calling a Broker implies that you also call, somewhere else in the graph, a subscriber and a publisher._"
   ]
  },
  {
   "cell_type": "raw",
   "id": "011b44fa",
   "metadata": {},
   "source": [
    "Here you can find the code to create the broker :\n",
    "\n",
    "    - id: PubSubBroker\n",
    "        nodes:\n",
    "        - id: Broker\n",
    "          module: timeflux.nodes.zmq\n",
    "          class: Broker"
   ]
  },
  {
   "cell_type": "markdown",
   "id": "99431988",
   "metadata": {},
   "source": [
    "### - The Subscriber"
   ]
  },
  {
   "cell_type": "markdown",
   "id": "4a6ba496",
   "metadata": {},
   "source": [
    "The _Subscriber_ is here to make us able to observe our signal. It is composed of 2 nodes.\n",
    "\n",
    "- The **Sub** class comes from the **timeflux.nodes.zmq** module. \n",
    "\n",
    "    We have to give it one parameter here, called 'topic', which is the name of output of the broker we are interested in, here, 'raw'.\n",
    "    \n",
    "\n",
    "- The **UI** class comes from the **timeflux_ui.nodes.ui** module (that needs to be installed first). It takes no parameter, it builds an graphic interface, on which we will be able to see the signal.\n",
    "\n",
    "\n",
    "- Connexions need to be made between the 'raw' signal and the UI. "
   ]
  },
  {
   "cell_type": "raw",
   "id": "a0e3f8b8",
   "metadata": {},
   "source": [
    "This is the code to create the subscriber :\n",
    "\n",
    "  - id: Subscriber\n",
    "    nodes:\n",
    "    - id: sub\n",
    "      module: timeflux.nodes.zmq\n",
    "      class: Sub\n",
    "      params:\n",
    "        topics: [ raw ]\n",
    "    - id: monitor\n",
    "      module: timeflux_ui.nodes.ui\n",
    "      class: UI\n",
    "    edges:\n",
    "      - source: sub:raw\n",
    "        target: monitor:raw"
   ]
  },
  {
   "cell_type": "markdown",
   "id": "a63c5da9",
   "metadata": {},
   "source": [
    "As you can see, it is important to name the signal that you want to be printed by the UI in the edges section."
   ]
  },
  {
   "cell_type": "markdown",
   "id": "2f68abbf",
   "metadata": {},
   "source": [
    "### - Final graph and observation"
   ]
  },
  {
   "cell_type": "markdown",
   "id": "57742f42",
   "metadata": {},
   "source": [
    "Now that we have the 3 sub graphs ready, we can run the file and observe our random signal.\n",
    "\n",
    "To be sure, the complete code is ready to be copied and pasted."
   ]
  },
  {
   "cell_type": "raw",
   "id": "fed0a3e5",
   "metadata": {},
   "source": [
    "graphs:\n",
    "  - id: PubSubBroker\n",
    "    nodes:\n",
    "    # Allow communication between graphs\n",
    "    - id: Broker\n",
    "      module: timeflux.nodes.zmq\n",
    "      class: Broker\n",
    "      \n",
    "  - id: Publisher\n",
    "    nodes:\n",
    "    - id: random\n",
    "      module: timeflux.nodes.random\n",
    "      class: Random\n",
    "      params:\n",
    "        columns: 1\n",
    "        \n",
    "    - id: pub\n",
    "      module: timeflux.nodes.zmq\n",
    "      class: Pub\n",
    "      params:\n",
    "        topic: raw\n",
    "        \n",
    "    edges:\n",
    "    - source: random\n",
    "      target: pub\n",
    "\n",
    "      \n",
    "  - id: Subscriber\n",
    "    nodes:\n",
    "    - id: sub\n",
    "      module: timeflux.nodes.zmq\n",
    "      class: Sub\n",
    "      params:\n",
    "        topics: [ raw ]\n",
    "    - id: monitor\n",
    "      module: timeflux_ui.nodes.ui\n",
    "      class: UI\n",
    "    edges:\n",
    "      - source: sub:raw\n",
    "        target: monitor:raw\n"
   ]
  },
  {
   "cell_type": "markdown",
   "id": "90e40b37",
   "metadata": {},
   "source": [
    "You can run this graph by the following command in a prompt :\n",
    "\n",
    "_timeflux -d helloworld.yaml_ \n",
    "\n",
    "\n",
    "Then, by running _http://localhost:8000/monitor/_ on a browser, you should be able to visualize the signal. \n",
    "To do so, select the 'raw' stream, and the '0' channel. \n",
    "\n",
    "Finally, you can display what you've done."
   ]
  },
  {
   "cell_type": "code",
   "execution_count": null,
   "id": "72c45a56",
   "metadata": {},
   "outputs": [],
   "source": []
  }
 ],
 "metadata": {
  "kernelspec": {
   "display_name": "Python 3",
   "language": "python",
   "name": "python3"
  },
  "language_info": {
   "codemirror_mode": {
    "name": "ipython",
    "version": 3
   },
   "file_extension": ".py",
   "mimetype": "text/x-python",
   "name": "python",
   "nbconvert_exporter": "python",
   "pygments_lexer": "ipython3",
   "version": "3.8.8"
  },
  "toc": {
   "base_numbering": 1,
   "nav_menu": {},
   "number_sections": false,
   "sideBar": false,
   "skip_h1_title": false,
   "title_cell": "Table of Contents",
   "title_sidebar": "Contents",
   "toc_cell": false,
   "toc_position": {},
   "toc_section_display": false,
   "toc_window_display": false
  }
 },
 "nbformat": 4,
 "nbformat_minor": 5
}
